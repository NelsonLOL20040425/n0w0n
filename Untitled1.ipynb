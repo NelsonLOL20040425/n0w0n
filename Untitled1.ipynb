{
  "nbformat": 4,
  "nbformat_minor": 0,
  "metadata": {
    "colab": {
      "name": "Untitled1.ipynb",
      "provenance": [],
      "authorship_tag": "ABX9TyOxCSRo+3hpGoFOSeJUBlrH",
      "include_colab_link": true
    },
    "kernelspec": {
      "name": "python3",
      "display_name": "Python 3"
    }
  },
  "cells": [
    {
      "cell_type": "markdown",
      "metadata": {
        "id": "view-in-github",
        "colab_type": "text"
      },
      "source": [
        "<a href=\"https://colab.research.google.com/github/NelsonLOL20040425/n0w0n/blob/master/Untitled1.ipynb\" target=\"_parent\"><img src=\"https://colab.research.google.com/assets/colab-badge.svg\" alt=\"Open In Colab\"/></a>"
      ]
    },
    {
      "cell_type": "code",
      "metadata": {
        "id": "IBCg0X2JhliM",
        "outputId": "dd0c27bd-4903-4c4c-f4c2-82f858b23c32",
        "colab": {
          "base_uri": "https://localhost:8080/",
          "height": 35
        }
      },
      "source": [
        "a = []\n",
        "b = []\n",
        "\n",
        "a.append(0) #在a串列添加0\n",
        "b.append(0) #在b串列添加0\n",
        "\n",
        "for i in range(1, 101): \n",
        "  b.append(i) #在b list追加1~100 b[0,1,2,3,......,100]\n",
        "\n",
        "for j in range(1, 100):\n",
        "  a.append(b[j] + a[j-1]) #取b串列第j+1個元素加上a串列第j個,以此類推,重複j=1至j=100\n",
        "                #a[0,1,3,6,10,......,4950]\n",
        "a[50]-a[30] #取a的第51個元素減去第31個元素"
      ],
      "execution_count": 9,
      "outputs": [
        {
          "output_type": "execute_result",
          "data": {
            "text/plain": [
              "810"
            ]
          },
          "metadata": {
            "tags": []
          },
          "execution_count": 9
        }
      ]
    }
  ]
}